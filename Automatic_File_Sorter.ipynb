{
 "cells": [
  {
   "cell_type": "markdown",
   "id": "62d87a94-c968-4f5a-b656-3b58eda0d85f",
   "metadata": {},
   "source": [
    "## Automatic File Sorter"
   ]
  },
  {
   "cell_type": "code",
   "execution_count": 1,
   "id": "e04b9812-1524-45b6-8d7e-5587905ff730",
   "metadata": {},
   "outputs": [],
   "source": [
    "import os, shutil"
   ]
  },
  {
   "cell_type": "code",
   "execution_count": 3,
   "id": "a2940596-3d9a-4272-a0b1-72794b3ddf29",
   "metadata": {},
   "outputs": [],
   "source": [
    "path = r'C:\\Users\\Adrian\\Desktop\\Data_Analyst\\Python\\Projects\\Automatic_File_Sorter'"
   ]
  },
  {
   "cell_type": "code",
   "execution_count": 5,
   "id": "5172b441-0c02-4c26-a6b0-b05a419cd14f",
   "metadata": {},
   "outputs": [
    {
     "data": {
      "text/plain": [
       "['Automatic_File_Sorter.ipynb',\n",
       " 'CSVFile.csv',\n",
       " 'FakeFile.csv',\n",
       " 'FakeFile.txt',\n",
       " 'Max.png',\n",
       " 'NewFile.tsv',\n",
       " 'NewFile.txt',\n",
       " 'Rosie.png']"
      ]
     },
     "execution_count": 5,
     "metadata": {},
     "output_type": "execute_result"
    }
   ],
   "source": [
    "os.listdir(path)"
   ]
  },
  {
   "cell_type": "code",
   "execution_count": 7,
   "id": "8c14ef0f-331c-4018-8da9-d86d7c62bfd2",
   "metadata": {},
   "outputs": [],
   "source": [
    "folder_names = ['CSV Files', 'Text Files', 'Image Files']\n",
    "\n",
    "for folder in folder_names:\n",
    "    if not os.path.exists(path + '\\\\' + folder):\n",
    "        os.makedirs(path + '\\\\' + folder)"
   ]
  },
  {
   "cell_type": "code",
   "execution_count": 9,
   "id": "6001dbda-1ee2-4d6f-b096-974f7abb20eb",
   "metadata": {},
   "outputs": [],
   "source": [
    "file_names = os.listdir(path)"
   ]
  },
  {
   "cell_type": "code",
   "execution_count": 13,
   "id": "5f56213e-ffbd-4992-b5c5-8918ea9dfa51",
   "metadata": {},
   "outputs": [],
   "source": [
    "for file in file_names:\n",
    "    if \".csv\" in file and not os.path.exists(path + '\\\\CSV Files\\\\' + file):\n",
    "        shutil.move(path + '\\\\' + file, path + '\\\\CSV Files\\\\' + file)\n",
    "    elif \".png\" in file and not os.path.exists(path + '\\\\Image Files\\\\' + file):\n",
    "        shutil.move(path + '\\\\' + file, path + '\\\\Image Files\\\\' + file)\n",
    "    elif \".txt\" in file and not os.path.exists(path + '\\\\Text Files\\\\' + file):\n",
    "        shutil.move(path + '\\\\' + file, path + '\\\\Text Files\\\\' + file)"
   ]
  }
 ],
 "metadata": {
  "kernelspec": {
   "display_name": "Python 3 (ipykernel)",
   "language": "python",
   "name": "python3"
  },
  "language_info": {
   "codemirror_mode": {
    "name": "ipython",
    "version": 3
   },
   "file_extension": ".py",
   "mimetype": "text/x-python",
   "name": "python",
   "nbconvert_exporter": "python",
   "pygments_lexer": "ipython3",
   "version": "3.12.7"
  }
 },
 "nbformat": 4,
 "nbformat_minor": 5
}
