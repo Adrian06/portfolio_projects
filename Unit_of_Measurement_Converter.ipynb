{
 "cells": [
  {
   "cell_type": "markdown",
   "id": "80363237-3dda-45de-b6d1-35b0dc5ff938",
   "metadata": {},
   "source": [
    "## Unit of Measurement Converter"
   ]
  },
  {
   "cell_type": "code",
   "execution_count": 15,
   "id": "c6118d0c-9289-402a-96aa-9ba607145040",
   "metadata": {},
   "outputs": [
    {
     "name": "stdin",
     "output_type": "stream",
     "text": [
      "Enter Starting Unit of Measurement (inches, feet, yards):  inches\n",
      "Enter Unit of Measurement to Convert to (inches, feet, yards):  yards\n",
      "Enter Starting Measurement in Inches:  10.5\n"
     ]
    },
    {
     "name": "stdout",
     "output_type": "stream",
     "text": [
      "Result: 10.5 Inches = 0.29 Yards\n"
     ]
    }
   ],
   "source": [
    "convert_from = input(\"Enter Starting Unit of Measurement (inches, feet, yards): \").lower()\n",
    "convert_to = input(\"Enter Unit of Measurement to Convert to (inches, feet, yards): \").lower()\n",
    "\n",
    "if convert_from == 'inches':   \n",
    "    if convert_to == 'feet':\n",
    "        number_of_inches  = float(input(\"Enter Starting Measurement in Inches: \"))\n",
    "        print(f\"Result: {number_of_inches} Inches = {round(number_of_inches / 12, 2)} Feet\")\n",
    "    elif convert_to == 'yards':\n",
    "        number_of_inches  = float(input(\"Enter Starting Measurement in Inches: \"))\n",
    "        print(f\"Result: {number_of_inches} Inches = {round(number_of_inches / 36, 2)} Yards\")\n",
    "    else:\n",
    "        print(\"Your input was incorrect. Please enter either Inches, Feet, or Yards.\")\n",
    "elif convert_from == 'feet':\n",
    "    if convert_to == 'inches':\n",
    "        number_of_feet  = float(input(\"Enter Starting Measurement in Feet: \"))\n",
    "        print(f\"Result: {number_of_feet} Feet = {number_of_feet * 12} Inches\")\n",
    "    elif convert_to == 'yards':\n",
    "        number_of_feet  = float(input(\"Enter Starting Measurement in Feet: \"))\n",
    "        print(f\"Result: {number_of_feet} Feet = {round(number_of_feet / 3, 2)} Yards\")\n",
    "    else:\n",
    "        print(\"Your input was incorrect. Please enter either Inches, Feet, or Yards.\")\n",
    "elif convert_from == 'yards':\n",
    "    if convert_to == 'inches':\n",
    "        number_of_yards  = float(input(\"Enter Starting Measurement in Yards: \"))\n",
    "        print(f\"Result: {number_of_yards} Yards = {number_of_yards * 36} Inches\")\n",
    "    elif convert_to == 'feet':\n",
    "        number_of_yards  = float(input(\"Enter Starting Measurement in Yards: \"))\n",
    "        print(f\"Result: {number_of_yards} Yards = {number_of_yards * 3} Feet\")\n",
    "    else:\n",
    "        print(\"Your input was incorrect. Please enter either Inches, Feet, or Yards.\")\n",
    "else:\n",
    "    print(\"Your input was incorrect. Please enter either Inches, Feet, or Yards.\")"
   ]
  },
  {
   "cell_type": "code",
   "execution_count": null,
   "id": "86a7930e-6b71-4ac7-87a2-a2a7fc009a33",
   "metadata": {},
   "outputs": [],
   "source": []
  }
 ],
 "metadata": {
  "kernelspec": {
   "display_name": "Python 3 (ipykernel)",
   "language": "python",
   "name": "python3"
  },
  "language_info": {
   "codemirror_mode": {
    "name": "ipython",
    "version": 3
   },
   "file_extension": ".py",
   "mimetype": "text/x-python",
   "name": "python",
   "nbconvert_exporter": "python",
   "pygments_lexer": "ipython3",
   "version": "3.12.7"
  }
 },
 "nbformat": 4,
 "nbformat_minor": 5
}
