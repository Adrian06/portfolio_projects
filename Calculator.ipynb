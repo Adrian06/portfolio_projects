{
 "cells": [
  {
   "cell_type": "markdown",
   "id": "8e548b82-b5f7-48a4-8b65-fa1d61f1ab9d",
   "metadata": {},
   "source": [
    "## Calculator"
   ]
  },
  {
   "cell_type": "code",
   "execution_count": 2,
   "id": "095dbb9b-ae6c-4d9f-8956-af80f6d10e04",
   "metadata": {},
   "outputs": [],
   "source": [
    "def add(x, y):\n",
    "    return x + y\n",
    "\n",
    "def subtract(x, y):\n",
    "    return x - y\n",
    "\n",
    "def multiply(x, y):\n",
    "    return x * y\n",
    "\n",
    "def divide(x, y):\n",
    "    return x / y"
   ]
  },
  {
   "cell_type": "code",
   "execution_count": 14,
   "id": "0d16a61c-e162-4879-b64d-e4d1f2cf81e7",
   "metadata": {},
   "outputs": [
    {
     "name": "stdin",
     "output_type": "stream",
     "text": [
      "Enter choice (A-Add, S-Subtract, M-Multiply, D-Divide):  d\n",
      "Enter first number:  43\n",
      "Enter second number:  2\n"
     ]
    },
    {
     "name": "stdout",
     "output_type": "stream",
     "text": [
      "43.0 / 2.0 = 21.5\n"
     ]
    },
    {
     "name": "stdin",
     "output_type": "stream",
     "text": [
      "Do you want to start again? (Y-Yes, N-No):  y\n",
      "Enter choice (A-Add, S-Subtract, M-Multiply, D-Divide):  a\n",
      "Enter first number:  123\n",
      "Enter second number:  15125\n"
     ]
    },
    {
     "name": "stdout",
     "output_type": "stream",
     "text": [
      "123.0 + 15125.0 = 15248.0\n"
     ]
    },
    {
     "name": "stdin",
     "output_type": "stream",
     "text": [
      "Do you want to start again? (Y-Yes, N-No):  No\n"
     ]
    }
   ],
   "source": [
    "\n",
    "start_again = True\n",
    "\n",
    "while start_again:\n",
    "    choice = input(\"Enter choice (A-Add, S-Subtract, M-Multiply, D-Divide): \").upper()\n",
    "    \n",
    "    if choice in ('A', 'ADD', 'S', 'SUBTRACT', 'M', 'MULTIPLY', 'D', 'DIVIDE'):\n",
    "        num1 = float(input(\"Enter first number: \"))\n",
    "        num2 = float(input(\"Enter second number: \"))\n",
    "        \n",
    "        if choice in ('A', 'ADD'):\n",
    "            print(f\"{num1} + {num2} = {add(num1, num2)}\")\n",
    "        elif choice in ('S', 'SUBTRACT'):\n",
    "            print(f\"{num1} - {num2} = {subtract(num1, num2)}\")\n",
    "        elif choice in ('M', 'MULTIPLY'):\n",
    "            print(f\"{num1} * {num2} = {multiply(num1, num2)}\")\n",
    "        elif choice in ('D', 'DIVIDE'):\n",
    "            print(f\"{num1} / {num2} = {divide(num1, num2)}\")\n",
    "\n",
    "        decision = input('Do you want to start again? (Y-Yes, N-No): ').lower()\n",
    "        if decision in ('n', 'no'):\n",
    "            start_again = False\n",
    "    else:\n",
    "        print('Please enter a valid input.')"
   ]
  },
  {
   "cell_type": "code",
   "execution_count": null,
   "id": "e17ef9ec-440a-471f-a33f-3e3bc21d6702",
   "metadata": {},
   "outputs": [],
   "source": []
  }
 ],
 "metadata": {
  "kernelspec": {
   "display_name": "Python 3 (ipykernel)",
   "language": "python",
   "name": "python3"
  },
  "language_info": {
   "codemirror_mode": {
    "name": "ipython",
    "version": 3
   },
   "file_extension": ".py",
   "mimetype": "text/x-python",
   "name": "python",
   "nbconvert_exporter": "python",
   "pygments_lexer": "ipython3",
   "version": "3.12.7"
  }
 },
 "nbformat": 4,
 "nbformat_minor": 5
}
